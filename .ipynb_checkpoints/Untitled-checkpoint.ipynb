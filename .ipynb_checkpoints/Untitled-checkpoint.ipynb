{
 "cells": [
  {
   "cell_type": "code",
   "execution_count": 5,
   "metadata": {
    "collapsed": true
   },
   "outputs": [],
   "source": [
    "import patsy\n",
    "import numpy as np\n",
    "import matplotlib.pyplot as plt\n",
    "%matplotlib inline"
   ]
  },
  {
   "cell_type": "code",
   "execution_count": 10,
   "metadata": {
    "collapsed": false
   },
   "outputs": [
    {
     "name": "stdout",
     "output_type": "stream",
     "text": [
      "Help on function BS in module patsy.splines:\n",
      "\n",
      "BS(*args, **kwargs)\n",
      "    bs(x, df=None, knots=None, degree=3, include_intercept=False, lower_bound=None, upper_bound=None)\n",
      "    \n",
      "    Generates a B-spline basis for ``x``, allowing non-linear fits. The usual\n",
      "    usage is something like::\n",
      "    \n",
      "      y ~ 1 + bs(x, 4)\n",
      "    \n",
      "    to fit ``y`` as a smooth function of ``x``, with 4 degrees of freedom\n",
      "    given to the smooth.\n",
      "    \n",
      "    :arg df: The number of degrees of freedom to use for this spline. The\n",
      "      return value will have this many columns. You must specify at least one\n",
      "      of ``df`` and ``knots``.\n",
      "    :arg knots: The interior knots to use for the spline. If unspecified, then\n",
      "      equally spaced quantiles of the input data are used. You must specify at\n",
      "      least one of ``df`` and ``knots``.\n",
      "    :arg degree: The degree of the spline to use.\n",
      "    :arg include_intercept: If ``True``, then the resulting\n",
      "      spline basis will span the intercept term (i.e., the constant\n",
      "      function). If ``False`` (the default) then this will not be the case,\n",
      "      which is useful for avoiding overspecification in models that include\n",
      "      multiple spline terms and/or an intercept term.\n",
      "    :arg lower_bound: The lower exterior knot location.\n",
      "    :arg upper_bound: The upper exterior knot location.\n",
      "    \n",
      "    A spline with ``degree=0`` is piecewise constant with breakpoints at each\n",
      "    knot, and the default knot positions are quantiles of the input. So if you\n",
      "    find yourself in the situation of wanting to quantize a continuous\n",
      "    variable into ``num_bins`` equal-sized bins with a constant effect across\n",
      "    each bin, you can use ``bs(x, num_bins - 1, degree=0)``. (The ``- 1`` is\n",
      "    because one degree of freedom will be taken by the intercept;\n",
      "    alternatively, you could leave the intercept term out of your model and\n",
      "    use ``bs(x, num_bins, degree=0, include_intercept=True)``.\n",
      "    \n",
      "    A spline with ``degree=1`` is piecewise linear with breakpoints at each\n",
      "    knot.\n",
      "    \n",
      "    The default is ``degree=3``, which gives a cubic b-spline.\n",
      "    \n",
      "    This is a stateful transform (for details see\n",
      "    :ref:`stateful-transforms`). If ``knots``, ``lower_bound``, or\n",
      "    ``upper_bound`` are not specified, they will be calculated from the data\n",
      "    and then the chosen values will be remembered and re-used for prediction\n",
      "    from the fitted model.\n",
      "    \n",
      "    Using this function requires scipy be installed.\n",
      "    \n",
      "    .. note:: This function is very similar to the R function of the same\n",
      "      name. In cases where both return output at all (e.g., R's ``bs`` will\n",
      "      raise an error if ``degree=0``, while patsy's will not), they should\n",
      "      produce identical output given identical input and parameter settings.\n",
      "    \n",
      "    .. warning:: I'm not sure on what the proper handling of points outside\n",
      "      the lower/upper bounds is, so for now attempting to evaluate a spline\n",
      "      basis at such points produces an error. Patches gratefully accepted.\n",
      "    \n",
      "    .. versionadded:: 0.2.0\n",
      "\n"
     ]
    }
   ],
   "source": [
    "help(patsy.bs)"
   ]
  }
 ],
 "metadata": {
  "kernelspec": {
   "display_name": "Python 2",
   "language": "python",
   "name": "python2"
  },
  "language_info": {
   "codemirror_mode": {
    "name": "ipython",
    "version": 2
   },
   "file_extension": ".py",
   "mimetype": "text/x-python",
   "name": "python",
   "nbconvert_exporter": "python",
   "pygments_lexer": "ipython2",
   "version": "2.7.11"
  }
 },
 "nbformat": 4,
 "nbformat_minor": 0
}
