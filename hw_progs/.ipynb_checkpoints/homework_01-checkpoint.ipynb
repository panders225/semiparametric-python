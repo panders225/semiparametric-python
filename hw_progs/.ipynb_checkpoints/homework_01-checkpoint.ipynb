{
 "cells": [
  {
   "cell_type": "markdown",
   "metadata": {},
   "source": [
    "# Homework 1\n",
    "## Phil Anderson\n",
    "## STAT 689"
   ]
  },
  {
   "cell_type": "code",
   "execution_count": 37,
   "metadata": {
    "collapsed": false
   },
   "outputs": [],
   "source": [
    "# third party modules\n",
    "import numpy as np\n",
    "import pandas as pd\n",
    "import statsmodels.api as sm\n",
    "import seaborn as sns\n",
    "import matplotlib.pyplot as plt\n",
    "\n",
    "%matplotlib inline"
   ]
  },
  {
   "cell_type": "code",
   "execution_count": 5,
   "metadata": {
    "collapsed": false
   },
   "outputs": [
    {
     "data": {
      "text/html": [
       "<div>\n",
       "<style scoped>\n",
       "    .dataframe tbody tr th:only-of-type {\n",
       "        vertical-align: middle;\n",
       "    }\n",
       "\n",
       "    .dataframe tbody tr th {\n",
       "        vertical-align: top;\n",
       "    }\n",
       "\n",
       "    .dataframe thead th {\n",
       "        text-align: right;\n",
       "    }\n",
       "</style>\n",
       "<table border=\"1\" class=\"dataframe\">\n",
       "  <thead>\n",
       "    <tr style=\"text-align: right;\">\n",
       "      <th></th>\n",
       "      <th>year</th>\n",
       "      <th>spawners</th>\n",
       "      <th>recruits</th>\n",
       "    </tr>\n",
       "  </thead>\n",
       "  <tbody>\n",
       "    <tr>\n",
       "      <th>0</th>\n",
       "      <td>1940</td>\n",
       "      <td>963</td>\n",
       "      <td>2215</td>\n",
       "    </tr>\n",
       "    <tr>\n",
       "      <th>1</th>\n",
       "      <td>1941</td>\n",
       "      <td>572</td>\n",
       "      <td>1334</td>\n",
       "    </tr>\n",
       "    <tr>\n",
       "      <th>2</th>\n",
       "      <td>1942</td>\n",
       "      <td>305</td>\n",
       "      <td>800</td>\n",
       "    </tr>\n",
       "    <tr>\n",
       "      <th>3</th>\n",
       "      <td>1943</td>\n",
       "      <td>272</td>\n",
       "      <td>438</td>\n",
       "    </tr>\n",
       "    <tr>\n",
       "      <th>4</th>\n",
       "      <td>1944</td>\n",
       "      <td>824</td>\n",
       "      <td>3071</td>\n",
       "    </tr>\n",
       "  </tbody>\n",
       "</table>\n",
       "</div>"
      ],
      "text/plain": [
       "   year  spawners  recruits\n",
       "0  1940       963      2215\n",
       "1  1941       572      1334\n",
       "2  1942       305       800\n",
       "3  1943       272       438\n",
       "4  1944       824      3071"
      ]
     },
     "execution_count": 5,
     "metadata": {},
     "output_type": "execute_result"
    }
   ],
   "source": [
    "skeena = pd.read_csv(\"C:/Users/Philip/Schools/TAMU/STAT_689/homework/hw02/Skeena_River.csv\")\n",
    "skeena.columns = map(str.lower, skeena.columns)\n",
    "skeena.head()"
   ]
  },
  {
   "cell_type": "code",
   "execution_count": 6,
   "metadata": {
    "collapsed": false
   },
   "outputs": [
    {
     "data": {
      "text/html": [
       "<div>\n",
       "<style scoped>\n",
       "    .dataframe tbody tr th:only-of-type {\n",
       "        vertical-align: middle;\n",
       "    }\n",
       "\n",
       "    .dataframe tbody tr th {\n",
       "        vertical-align: top;\n",
       "    }\n",
       "\n",
       "    .dataframe thead th {\n",
       "        text-align: right;\n",
       "    }\n",
       "</style>\n",
       "<table border=\"1\" class=\"dataframe\">\n",
       "  <thead>\n",
       "    <tr style=\"text-align: right;\">\n",
       "      <th></th>\n",
       "      <th>year</th>\n",
       "      <th>spawners</th>\n",
       "      <th>recruits</th>\n",
       "    </tr>\n",
       "  </thead>\n",
       "  <tbody>\n",
       "    <tr>\n",
       "      <th>count</th>\n",
       "      <td>28.000000</td>\n",
       "      <td>28.000000</td>\n",
       "      <td>28.000000</td>\n",
       "    </tr>\n",
       "    <tr>\n",
       "      <th>mean</th>\n",
       "      <td>1953.500000</td>\n",
       "      <td>557.107143</td>\n",
       "      <td>1239.107143</td>\n",
       "    </tr>\n",
       "    <tr>\n",
       "      <th>std</th>\n",
       "      <td>8.225975</td>\n",
       "      <td>264.980969</td>\n",
       "      <td>687.748411</td>\n",
       "    </tr>\n",
       "    <tr>\n",
       "      <th>min</th>\n",
       "      <td>1940.000000</td>\n",
       "      <td>87.000000</td>\n",
       "      <td>127.000000</td>\n",
       "    </tr>\n",
       "    <tr>\n",
       "      <th>25%</th>\n",
       "      <td>1946.750000</td>\n",
       "      <td>354.250000</td>\n",
       "      <td>696.500000</td>\n",
       "    </tr>\n",
       "    <tr>\n",
       "      <th>50%</th>\n",
       "      <td>1953.500000</td>\n",
       "      <td>534.500000</td>\n",
       "      <td>1093.000000</td>\n",
       "    </tr>\n",
       "    <tr>\n",
       "      <th>75%</th>\n",
       "      <td>1960.250000</td>\n",
       "      <td>804.000000</td>\n",
       "      <td>1585.750000</td>\n",
       "    </tr>\n",
       "    <tr>\n",
       "      <th>max</th>\n",
       "      <td>1967.000000</td>\n",
       "      <td>1066.000000</td>\n",
       "      <td>3071.000000</td>\n",
       "    </tr>\n",
       "  </tbody>\n",
       "</table>\n",
       "</div>"
      ],
      "text/plain": [
       "              year     spawners     recruits\n",
       "count    28.000000    28.000000    28.000000\n",
       "mean   1953.500000   557.107143  1239.107143\n",
       "std       8.225975   264.980969   687.748411\n",
       "min    1940.000000    87.000000   127.000000\n",
       "25%    1946.750000   354.250000   696.500000\n",
       "50%    1953.500000   534.500000  1093.000000\n",
       "75%    1960.250000   804.000000  1585.750000\n",
       "max    1967.000000  1066.000000  3071.000000"
      ]
     },
     "execution_count": 6,
     "metadata": {},
     "output_type": "execute_result"
    }
   ],
   "source": [
    "skeena.describe()"
   ]
  },
  {
   "cell_type": "markdown",
   "metadata": {},
   "source": [
    "### Question 1 - Run a linear regression of Y (recruits) on X (spawners)"
   ]
  },
  {
   "cell_type": "code",
   "execution_count": 13,
   "metadata": {
    "collapsed": false
   },
   "outputs": [],
   "source": [
    "lin_mod = sm.OLS(endog=skeena['recruits']\n",
    "                 , exog=sm.add_constant(skeena['spawners'])\n",
    "                )\n",
    "lin_mod = lin_mod.fit()                "
   ]
  },
  {
   "cell_type": "code",
   "execution_count": 14,
   "metadata": {
    "collapsed": false
   },
   "outputs": [
    {
     "data": {
      "text/html": [
       "<table class=\"simpletable\">\n",
       "<caption>OLS Regression Results</caption>\n",
       "<tr>\n",
       "  <th>Dep. Variable:</th>        <td>recruits</td>     <th>  R-squared:         </th> <td>   0.308</td>\n",
       "</tr>\n",
       "<tr>\n",
       "  <th>Model:</th>                   <td>OLS</td>       <th>  Adj. R-squared:    </th> <td>   0.282</td>\n",
       "</tr>\n",
       "<tr>\n",
       "  <th>Method:</th>             <td>Least Squares</td>  <th>  F-statistic:       </th> <td>   11.60</td>\n",
       "</tr>\n",
       "<tr>\n",
       "  <th>Date:</th>             <td>Tue, 23 Jan 2018</td> <th>  Prob (F-statistic):</th>  <td>0.00216</td>\n",
       "</tr>\n",
       "<tr>\n",
       "  <th>Time:</th>                 <td>07:24:58</td>     <th>  Log-Likelihood:    </th> <td> -216.99</td>\n",
       "</tr>\n",
       "<tr>\n",
       "  <th>No. Observations:</th>      <td>    28</td>      <th>  AIC:               </th> <td>   438.0</td>\n",
       "</tr>\n",
       "<tr>\n",
       "  <th>Df Residuals:</th>          <td>    26</td>      <th>  BIC:               </th> <td>   440.7</td>\n",
       "</tr>\n",
       "<tr>\n",
       "  <th>Df Model:</th>              <td>     1</td>      <th>                     </th>     <td> </td>   \n",
       "</tr>\n",
       "<tr>\n",
       "  <th>Covariance Type:</th>      <td>nonrobust</td>    <th>                     </th>     <td> </td>   \n",
       "</tr>\n",
       "</table>\n",
       "<table class=\"simpletable\">\n",
       "<tr>\n",
       "      <td></td>        <th>coef</th>     <th>std err</th>      <th>t</th>      <th>P>|t|</th>  <th>[0.025</th>    <th>0.975]</th>  \n",
       "</tr>\n",
       "<tr>\n",
       "  <th>const</th>    <td>  436.0809</td> <td>  260.278</td> <td>    1.675</td> <td> 0.106</td> <td>  -98.927</td> <td>  971.089</td>\n",
       "</tr>\n",
       "<tr>\n",
       "  <th>spawners</th> <td>    1.4414</td> <td>    0.423</td> <td>    3.405</td> <td> 0.002</td> <td>    0.571</td> <td>    2.312</td>\n",
       "</tr>\n",
       "</table>\n",
       "<table class=\"simpletable\">\n",
       "<tr>\n",
       "  <th>Omnibus:</th>       <td> 1.392</td> <th>  Durbin-Watson:     </th> <td>   2.569</td>\n",
       "</tr>\n",
       "<tr>\n",
       "  <th>Prob(Omnibus):</th> <td> 0.499</td> <th>  Jarque-Bera (JB):  </th> <td>   0.633</td>\n",
       "</tr>\n",
       "<tr>\n",
       "  <th>Skew:</th>          <td> 0.355</td> <th>  Prob(JB):          </th> <td>   0.729</td>\n",
       "</tr>\n",
       "<tr>\n",
       "  <th>Kurtosis:</th>      <td> 3.195</td> <th>  Cond. No.          </th> <td>1.45e+03</td>\n",
       "</tr>\n",
       "</table>"
      ],
      "text/plain": [
       "<class 'statsmodels.iolib.summary.Summary'>\n",
       "\"\"\"\n",
       "                            OLS Regression Results                            \n",
       "==============================================================================\n",
       "Dep. Variable:               recruits   R-squared:                       0.308\n",
       "Model:                            OLS   Adj. R-squared:                  0.282\n",
       "Method:                 Least Squares   F-statistic:                     11.60\n",
       "Date:                Tue, 23 Jan 2018   Prob (F-statistic):            0.00216\n",
       "Time:                        07:24:58   Log-Likelihood:                -216.99\n",
       "No. Observations:                  28   AIC:                             438.0\n",
       "Df Residuals:                      26   BIC:                             440.7\n",
       "Df Model:                           1                                         \n",
       "Covariance Type:            nonrobust                                         \n",
       "==============================================================================\n",
       "                 coef    std err          t      P>|t|      [0.025      0.975]\n",
       "------------------------------------------------------------------------------\n",
       "const        436.0809    260.278      1.675      0.106     -98.927     971.089\n",
       "spawners       1.4414      0.423      3.405      0.002       0.571       2.312\n",
       "==============================================================================\n",
       "Omnibus:                        1.392   Durbin-Watson:                   2.569\n",
       "Prob(Omnibus):                  0.499   Jarque-Bera (JB):                0.633\n",
       "Skew:                           0.355   Prob(JB):                        0.729\n",
       "Kurtosis:                       3.195   Cond. No.                     1.45e+03\n",
       "==============================================================================\n",
       "\n",
       "Warnings:\n",
       "[1] Standard Errors assume that the covariance matrix of the errors is correctly specified.\n",
       "[2] The condition number is large, 1.45e+03. This might indicate that there are\n",
       "strong multicollinearity or other numerical problems.\n",
       "\"\"\""
      ]
     },
     "execution_count": 14,
     "metadata": {},
     "output_type": "execute_result"
    }
   ],
   "source": [
    "lin_mod.summary()"
   ]
  },
  {
   "cell_type": "code",
   "execution_count": 38,
   "metadata": {
    "collapsed": false
   },
   "outputs": [],
   "source": [
    "# gather materials to create diagnostic plots\n",
    "model_fitted = lin_mod.fittedvalues\n",
    "model_resid = lin_mod.resid\n",
    "model_norm_resid = lin_mod.get_influence().resid_studentized_internal\n",
    "\n",
    "model_abs_resid = np.abs(model_resid)\n"
   ]
  },
  {
   "cell_type": "code",
   "execution_count": 47,
   "metadata": {
    "collapsed": false
   },
   "outputs": [
    {
     "data": {
      "image/png": "[encoded data removed]",
      "text/plain": [
       "<matplotlib.figure.Figure at 0x1213bb70>"
      ]
     },
     "metadata": {},
     "output_type": "display_data"
    }
   ],
   "source": [
    "plot_lm_1 = plt.figure(1)\n",
    "plot_lm_1.set_figheight(10)\n",
    "plot_lm_1.set_figwidth(14)\n",
    "\n",
    "plot_lm_1.axes[0] = sns.residplot(model_fitted, 'recruits', data=skeena, lowess=True\n",
    "                                 , scatter_kws={'alpha': 0.5}\n",
    "                                 , line_kws={'color': 'red', 'lw': 1, 'alpha': 0.8}\n",
    "                                 )\n",
    "plot_lm_1.axes[0].set_title('Residuals vs. Fitted')\n",
    "plot_lm_1.axes[0].set_xlabel('Fitted Values')\n",
    "plot_lm_1.axes[0].set_ylabel('Residuals')\n",
    "\n",
    "abs_resid = model_abs_resid.sort_values(ascending=False)\n",
    "abs_resid_top_3 = abs_resid[:3]\n",
    "\n",
    "for i in abs_resid_top_3.index:\n",
    "    plot_lm_1.axes[0].annotate(i\n",
    "                              , xy=(model_fitted[i]\n",
    "                                 , model_resid[i])\n",
    "                              )"
   ]
  },
  {
   "cell_type": "markdown",
   "metadata": {},
   "source": [
    "As we move along the fitted values of the model, we can see that the residuals display non-constant variance, thus, we have some evidence of heteroskedacticity."
   ]
  },
  {
   "cell_type": "markdown",
   "metadata": {},
   "source": [
    "### Question 2 - is there a statistically significant relationship between X and Y?\n",
    "\n",
    "From the above summary display, we can see that there is a significant relationship between X and Y, as the coefficient on the 'spawners' variable has a significant p-value."
   ]
  },
  {
   "cell_type": "markdown",
   "metadata": {},
   "source": [
    "### Question 3 - Regress log(Y) on log(X) - which points are obviously 1951 and 1955?\n",
    "\n",
    "1951 has a very low amount of recruits, and should have a low residual / high standardized residual\n",
    "1955 has a very low number of spawners, and should have a high Cook's distance for leverage evaluation"
   ]
  },
  {
   "cell_type": "code",
   "execution_count": 50,
   "metadata": {
    "collapsed": false
   },
   "outputs": [],
   "source": [
    "lin_mod2 = sm.OLS(endog=np.log(skeena['recruits'])\n",
    "                 , exog=sm.add_constant(np.log(skeena['spawners']))\n",
    "                 )\n",
    "lin_mod2 = lin_mod2.fit()"
   ]
  },
  {
   "cell_type": "markdown",
   "metadata": {},
   "source": [
    "### Question 4 - Does the log-log regression show heteroskedacticity?"
   ]
  },
  {
   "cell_type": "code",
   "execution_count": 63,
   "metadata": {
    "collapsed": true
   },
   "outputs": [],
   "source": [
    "# gather materials to create diagnostic plots\n",
    "model_fitted = lin_mod2.fittedvalues\n",
    "model_resid = lin_mod2.resid\n",
    "model_norm_resid = lin_mod2.get_influence().resid_studentized_internal\n",
    "\n",
    "model_abs_resid = np.abs(model_resid)\n"
   ]
  },
  {
   "cell_type": "code",
   "execution_count": 64,
   "metadata": {
    "collapsed": false
   },
   "outputs": [
    {
     "data": {
      "image/png": "[encoded data removed]",
      "text/plain": [
       "<matplotlib.figure.Figure at 0x1155de10>"
      ]
     },
     "metadata": {},
     "output_type": "display_data"
    }
   ],
   "source": [
    "plot_lm_1 = plt.figure(1)\n",
    "plot_lm_1.set_figheight(10)\n",
    "plot_lm_1.set_figwidth(14)\n",
    "\n",
    "plot_lm_1.axes[0] = sns.residplot(model_fitted, 'recruits', data=skeena, lowess=True\n",
    "                                 , scatter_kws={'alpha': 0.5}\n",
    "                                 , line_kws={'color': 'red', 'lw': 1, 'alpha': 0.8}\n",
    "                                 )\n",
    "plot_lm_1.axes[0].set_title('Residuals vs. Fitted')\n",
    "plot_lm_1.axes[0].set_xlabel('Fitted Values')\n",
    "plot_lm_1.axes[0].set_ylabel('Residuals')\n",
    "\n",
    "abs_resid = model_abs_resid.sort_values(ascending=False)\n",
    "abs_resid_top_3 = abs_resid[:3]\n",
    "\n",
    "for i in abs_resid_top_3.index:\n",
    "    plot_lm_1.axes[0].annotate(i\n",
    "                              , xy=(model_fitted[i]\n",
    "                                 , model_resid[i])\n",
    "                              )"
   ]
  },
  {
   "cell_type": "markdown",
   "metadata": {},
   "source": [
    "The plot does appear to display some evidence of heteroskedacticity - as we move to higher fitted values, we see that the variance of the residuals begins to increase."
   ]
  },
  {
   "cell_type": "markdown",
   "metadata": {},
   "source": [
    "### Question 5- plot the fitted line in the last case, and show the polygon overlay\n",
    "\n",
    "Notice that the width of the confidence intervals expands as you move to points with fewer data points."
   ]
  },
  {
   "cell_type": "code",
   "execution_count": 61,
   "metadata": {
    "collapsed": false
   },
   "outputs": [
    {
     "data": {
      "text/plain": [
       "<matplotlib.text.Text at 0xe295a90>"
      ]
     },
     "execution_count": 61,
     "metadata": {},
     "output_type": "execute_result"
    },
    {
     "data": {
      "image/png": "[encoded data removed]",
      "text/plain": [
       "<matplotlib.figure.Figure at 0x11b29390>"
      ]
     },
     "metadata": {},
     "output_type": "display_data"
    }
   ],
   "source": [
    "sns.regplot(x=np.log(skeena['spawners']), y=np.log(skeena['recruits']))\n",
    "plt.title('ln(Recruits) vs. ln(Spawners)')\n",
    "plt.xlabel('ln(Spawners)')\n",
    "plt.ylabel('ln(Recruits)')"
   ]
  }
 ],
 "metadata": {
  "kernelspec": {
   "display_name": "Python 2",
   "language": "python",
   "name": "python2"
  },
  "language_info": {
   "codemirror_mode": {
    "name": "ipython",
    "version": 2
   },
   "file_extension": ".py",
   "mimetype": "text/x-python",
   "name": "python",
   "nbconvert_exporter": "python",
   "pygments_lexer": "ipython2",
   "version": "2.7.11"
  }
 },
 "nbformat": 4,
 "nbformat_minor": 0
}
