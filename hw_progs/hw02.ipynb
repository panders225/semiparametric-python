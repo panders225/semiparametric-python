{
 "cells": [
  {
   "cell_type": "markdown",
   "metadata": {},
   "source": [
    "# Homework 02\n",
    "### Phil Anderson\n",
    "### STAT 689"
   ]
  },
  {
   "cell_type": "code",
   "execution_count": 8,
   "metadata": {
    "collapsed": false
   },
   "outputs": [
    {
     "name": "stderr",
     "output_type": "stream",
     "text": [
      "C:\\Users\\Philip\\Anaconda2\\lib\\site-packages\\statsmodels\\compat\\pandas.py:56: FutureWarning: The pandas.core.datetools module is deprecated and will be removed in a future version. Please use the pandas.tseries module instead.\n",
      "  from pandas.core import datetools\n"
     ]
    }
   ],
   "source": [
    "# third-party modules\n",
    "import numpy as np\n",
    "import pandas as pd\n",
    "import statsmodels.api as sm\n",
    "import seaborn as sns\n",
    "import matplotlib.pyplot as plt\n",
    "\n",
    "%matplotlib inline"
   ]
  },
  {
   "cell_type": "code",
   "execution_count": 6,
   "metadata": {
    "collapsed": false
   },
   "outputs": [
    {
     "data": {
      "text/html": [
       "<div>\n",
       "<style scoped>\n",
       "    .dataframe tbody tr th:only-of-type {\n",
       "        vertical-align: middle;\n",
       "    }\n",
       "\n",
       "    .dataframe tbody tr th {\n",
       "        vertical-align: top;\n",
       "    }\n",
       "\n",
       "    .dataframe thead th {\n",
       "        text-align: right;\n",
       "    }\n",
       "</style>\n",
       "<table border=\"1\" class=\"dataframe\">\n",
       "  <thead>\n",
       "    <tr style=\"text-align: right;\">\n",
       "      <th></th>\n",
       "      <th>year</th>\n",
       "      <th>spawners</th>\n",
       "      <th>recruits</th>\n",
       "      <th>ln_spawners</th>\n",
       "      <th>ln_recruits</th>\n",
       "    </tr>\n",
       "  </thead>\n",
       "  <tbody>\n",
       "    <tr>\n",
       "      <th>0</th>\n",
       "      <td>1940</td>\n",
       "      <td>963</td>\n",
       "      <td>2215</td>\n",
       "      <td>6.870053</td>\n",
       "      <td>7.703008</td>\n",
       "    </tr>\n",
       "    <tr>\n",
       "      <th>1</th>\n",
       "      <td>1941</td>\n",
       "      <td>572</td>\n",
       "      <td>1334</td>\n",
       "      <td>6.349139</td>\n",
       "      <td>7.195937</td>\n",
       "    </tr>\n",
       "    <tr>\n",
       "      <th>2</th>\n",
       "      <td>1942</td>\n",
       "      <td>305</td>\n",
       "      <td>800</td>\n",
       "      <td>5.720312</td>\n",
       "      <td>6.684612</td>\n",
       "    </tr>\n",
       "    <tr>\n",
       "      <th>3</th>\n",
       "      <td>1943</td>\n",
       "      <td>272</td>\n",
       "      <td>438</td>\n",
       "      <td>5.605802</td>\n",
       "      <td>6.082219</td>\n",
       "    </tr>\n",
       "    <tr>\n",
       "      <th>4</th>\n",
       "      <td>1944</td>\n",
       "      <td>824</td>\n",
       "      <td>3071</td>\n",
       "      <td>6.714171</td>\n",
       "      <td>8.029759</td>\n",
       "    </tr>\n",
       "  </tbody>\n",
       "</table>\n",
       "</div>"
      ],
      "text/plain": [
       "   year  spawners  recruits  ln_spawners  ln_recruits\n",
       "0  1940       963      2215     6.870053     7.703008\n",
       "1  1941       572      1334     6.349139     7.195937\n",
       "2  1942       305       800     5.720312     6.684612\n",
       "3  1943       272       438     5.605802     6.082219\n",
       "4  1944       824      3071     6.714171     8.029759"
      ]
     },
     "execution_count": 6,
     "metadata": {},
     "output_type": "execute_result"
    }
   ],
   "source": [
    "# read in our data \n",
    "skeena = pd.read_csv(\"C:/Users/Philip/Schools/TAMU/STAT_689/homework/hw02/Skeena_River.csv\")\n",
    "skeena.columns = map(str.lower, skeena.columns)\n",
    "# create new variables for later on\n",
    "skeena['ln_spawners'] = np.log(skeena['spawners'])\n",
    "skeena['ln_recruits'] = np.log(skeena['recruits'])\n",
    "skeena.head()"
   ]
  },
  {
   "cell_type": "code",
   "execution_count": 43,
   "metadata": {
    "collapsed": false
   },
   "outputs": [],
   "source": [
    "# perform a linear regression of Y (recruits) on X (spawners)\n",
    "lin_mod = sm.OLS(endog=skeena['recruits']\n",
    "                , exog=sm.add_constant(skeena['spawners'])\n",
    "                )\n",
    "lin_mod = lin_mod.fit()"
   ]
  },
  {
   "cell_type": "code",
   "execution_count": 27,
   "metadata": {
    "collapsed": false
   },
   "outputs": [],
   "source": [
    "# steps to residual plotting\n",
    "def plotting_params(mod_obj):\n",
    "    # fitted values (need a constant term for intercept)\n",
    "    model_fitted_y = mod_obj.fittedvalues\n",
    "    # model residuals\n",
    "    model_residuals = mod_obj.resid\n",
    "    # normalized residuals\n",
    "    model_norm_residuals = mod_obj.get_influence().resid_studentized_internal\n",
    "    # absolute squared normalized residuals\n",
    "    model_norm_residuals_abs_sqrt = np.sqrt(np.abs(model_norm_residuals))\n",
    "    # absolute residuals\n",
    "    model_abs_resid = np.abs(model_residuals)\n",
    "    # leverage, from statsmodels internals\n",
    "    model_leverage = mod_obj.get_influence().hat_matrix_diag\n",
    "    # cook's distance, from statsmodels internals\n",
    "    model_cooks = mod_obj.get_influence().cooks_distance[0]\n",
    "    \n",
    "    return model_fitted_y, model_residuals, model_norm_residuals, model_norm_residuals_abs_sqrt, model_abs_resid, model_leverage, model_cooks"
   ]
  },
  {
   "cell_type": "code",
   "execution_count": 33,
   "metadata": {
    "collapsed": false
   },
   "outputs": [],
   "source": [
    "model_fitted_y, model_residuals, model_norm_residuals, model_norm_residuals_abs_sqrt, model_abs_resid, model_leverage, model_cooks = plotting_params(mod_obj=lin_mod)"
   ]
  },
  {
   "cell_type": "code",
   "execution_count": 41,
   "metadata": {
    "collapsed": false
   },
   "outputs": [],
   "source": [
    "def heteroscedacticity_plotter(model_fitted_y, y_var, dset, model_abs_resid):\n",
    "    \"\"\"First of the R lm plots\n",
    "    Args:\n",
    "        \n",
    "    \"\"\"\n",
    "    plot_lm_1 = plt.figure(1)\n",
    "    plot_lm_1.set_figheight(8)\n",
    "    plot_lm_1.set_figwidth(12)\n",
    "\n",
    "    plot_lm_1.axes[0] = sns.residplot(model_fitted_y, y_var, data=dset\n",
    "                                    , lowess=True\n",
    "                                    , scatter_kws={'alpha': 0.5}\n",
    "                                      , line_kws={'color' : 'red', 'lw' :1, 'alpha':0.8}\n",
    "                                     )\n",
    "    plot_lm_1.axes[0].set_title('Residuals vs Fitted')\n",
    "    plot_lm_1.axes[0].set_xlabel('Fitted values')\n",
    "    plot_lm_1.axes[0].set_ylabel('Residuals')\n",
    "\n",
    "    abs_resid = model_abs_resid.sort_values(ascending=False)\n",
    "    abs_resid_top_3 = abs_resid[:3]\n",
    "\n",
    "    for i in abs_resid_top_3.index:\n",
    "        plot_lm_1.axes[0].annotate(i, xy=(model_fitted_y[i], model_residuals[i]))"
   ]
  },
  {
   "cell_type": "code",
   "execution_count": 42,
   "metadata": {
    "collapsed": false
   },
   "outputs": [
    {
     "data": {
      "image/png": "[encoded data removed]",
      "text/plain": [
       "<matplotlib.figure.Figure at 0xe6c3ef0>"
      ]
     },
     "metadata": {},
     "output_type": "display_data"
    }
   ],
   "source": [
    "# generate plot \n",
    "heteroscedacticity_plotter(model_fitted_y=model_fitted_y\n",
    "                           , y_var='recruits'\n",
    "                           , dset=skeena\n",
    "                           , model_abs_resid=model_abs_resid\n",
    "                          )"
   ]
  },
  {
   "cell_type": "code",
   "execution_count": 44,
   "metadata": {
    "collapsed": false
   },
   "outputs": [
    {
     "data": {
      "text/html": [
       "<table class=\"simpletable\">\n",
       "<caption>OLS Regression Results</caption>\n",
       "<tr>\n",
       "  <th>Dep. Variable:</th>        <td>recruits</td>     <th>  R-squared:         </th> <td>   0.308</td>\n",
       "</tr>\n",
       "<tr>\n",
       "  <th>Model:</th>                   <td>OLS</td>       <th>  Adj. R-squared:    </th> <td>   0.282</td>\n",
       "</tr>\n",
       "<tr>\n",
       "  <th>Method:</th>             <td>Least Squares</td>  <th>  F-statistic:       </th> <td>   11.60</td>\n",
       "</tr>\n",
       "<tr>\n",
       "  <th>Date:</th>             <td>Sat, 27 Jan 2018</td> <th>  Prob (F-statistic):</th>  <td>0.00216</td>\n",
       "</tr>\n",
       "<tr>\n",
       "  <th>Time:</th>                 <td>13:48:42</td>     <th>  Log-Likelihood:    </th> <td> -216.99</td>\n",
       "</tr>\n",
       "<tr>\n",
       "  <th>No. Observations:</th>      <td>    28</td>      <th>  AIC:               </th> <td>   438.0</td>\n",
       "</tr>\n",
       "<tr>\n",
       "  <th>Df Residuals:</th>          <td>    26</td>      <th>  BIC:               </th> <td>   440.7</td>\n",
       "</tr>\n",
       "<tr>\n",
       "  <th>Df Model:</th>              <td>     1</td>      <th>                     </th>     <td> </td>   \n",
       "</tr>\n",
       "<tr>\n",
       "  <th>Covariance Type:</th>      <td>nonrobust</td>    <th>                     </th>     <td> </td>   \n",
       "</tr>\n",
       "</table>\n",
       "<table class=\"simpletable\">\n",
       "<tr>\n",
       "      <td></td>        <th>coef</th>     <th>std err</th>      <th>t</th>      <th>P>|t|</th>  <th>[0.025</th>    <th>0.975]</th>  \n",
       "</tr>\n",
       "<tr>\n",
       "  <th>const</th>    <td>  436.0809</td> <td>  260.278</td> <td>    1.675</td> <td> 0.106</td> <td>  -98.927</td> <td>  971.089</td>\n",
       "</tr>\n",
       "<tr>\n",
       "  <th>spawners</th> <td>    1.4414</td> <td>    0.423</td> <td>    3.405</td> <td> 0.002</td> <td>    0.571</td> <td>    2.312</td>\n",
       "</tr>\n",
       "</table>\n",
       "<table class=\"simpletable\">\n",
       "<tr>\n",
       "  <th>Omnibus:</th>       <td> 1.392</td> <th>  Durbin-Watson:     </th> <td>   2.569</td>\n",
       "</tr>\n",
       "<tr>\n",
       "  <th>Prob(Omnibus):</th> <td> 0.499</td> <th>  Jarque-Bera (JB):  </th> <td>   0.633</td>\n",
       "</tr>\n",
       "<tr>\n",
       "  <th>Skew:</th>          <td> 0.355</td> <th>  Prob(JB):          </th> <td>   0.729</td>\n",
       "</tr>\n",
       "<tr>\n",
       "  <th>Kurtosis:</th>      <td> 3.195</td> <th>  Cond. No.          </th> <td>1.45e+03</td>\n",
       "</tr>\n",
       "</table>"
      ],
      "text/plain": [
       "<class 'statsmodels.iolib.summary.Summary'>\n",
       "\"\"\"\n",
       "                            OLS Regression Results                            \n",
       "==============================================================================\n",
       "Dep. Variable:               recruits   R-squared:                       0.308\n",
       "Model:                            OLS   Adj. R-squared:                  0.282\n",
       "Method:                 Least Squares   F-statistic:                     11.60\n",
       "Date:                Sat, 27 Jan 2018   Prob (F-statistic):            0.00216\n",
       "Time:                        13:48:42   Log-Likelihood:                -216.99\n",
       "No. Observations:                  28   AIC:                             438.0\n",
       "Df Residuals:                      26   BIC:                             440.7\n",
       "Df Model:                           1                                         \n",
       "Covariance Type:            nonrobust                                         \n",
       "==============================================================================\n",
       "                 coef    std err          t      P>|t|      [0.025      0.975]\n",
       "------------------------------------------------------------------------------\n",
       "const        436.0809    260.278      1.675      0.106     -98.927     971.089\n",
       "spawners       1.4414      0.423      3.405      0.002       0.571       2.312\n",
       "==============================================================================\n",
       "Omnibus:                        1.392   Durbin-Watson:                   2.569\n",
       "Prob(Omnibus):                  0.499   Jarque-Bera (JB):                0.633\n",
       "Skew:                           0.355   Prob(JB):                        0.729\n",
       "Kurtosis:                       3.195   Cond. No.                     1.45e+03\n",
       "==============================================================================\n",
       "\n",
       "Warnings:\n",
       "[1] Standard Errors assume that the covariance matrix of the errors is correctly specified.\n",
       "[2] The condition number is large, 1.45e+03. This might indicate that there are\n",
       "strong multicollinearity or other numerical problems.\n",
       "\"\"\""
      ]
     },
     "execution_count": 44,
     "metadata": {},
     "output_type": "execute_result"
    }
   ],
   "source": [
    "# look for a statistically significant relationship between X and Y\n",
    "lin_mod.summary()\n",
    "# relationship appears to exist"
   ]
  },
  {
   "cell_type": "code",
   "execution_count": 46,
   "metadata": {
    "collapsed": false
   },
   "outputs": [],
   "source": [
    "# regress the log(Y) on log(X)\n",
    "lin_mod2 = sm.OLS(endog=skeena['ln_recruits']\n",
    "                 , exog=skeena['ln_spawners']\n",
    "                 )\n",
    "lin_mod2 = lin_mod2.fit()"
   ]
  },
  {
   "cell_type": "code",
   "execution_count": 47,
   "metadata": {
    "collapsed": true
   },
   "outputs": [],
   "source": [
    "model_fitted_y, model_residuals, model_norm_residuals, model_norm_residuals_abs_sqrt, model_abs_resid, model_leverage, model_cooks = plotting_params(mod_obj=lin_mod2)"
   ]
  },
  {
   "cell_type": "code",
   "execution_count": 48,
   "metadata": {
    "collapsed": false
   },
   "outputs": [
    {
     "data": {
      "image/png": "[encoded data removed]",
      "text/plain": [
       "<matplotlib.figure.Figure at 0xe4998d0>"
      ]
     },
     "metadata": {},
     "output_type": "display_data"
    }
   ],
   "source": [
    "# generate plot \n",
    "heteroscedacticity_plotter(model_fitted_y=model_fitted_y\n",
    "                           , y_var='ln_recruits'\n",
    "                           , dset=skeena\n",
    "                           , model_abs_resid=model_abs_resid\n",
    "                          )"
   ]
  },
  {
   "cell_type": "code",
   "execution_count": 72,
   "metadata": {
    "collapsed": false
   },
   "outputs": [
    {
     "data": {
      "text/plain": [
       "year           1951.000000\n",
       "spawners        176.000000\n",
       "recruits        127.000000\n",
       "ln_spawners       5.170484\n",
       "ln_recruits       4.844187\n",
       "Name: 11, dtype: float64"
      ]
     },
     "execution_count": 72,
     "metadata": {},
     "output_type": "execute_result"
    }
   ],
   "source": [
    "# year 1951 should have a low residual value.  Record 11 in graph seems to meet this.\n",
    "skeena.iloc[11]"
   ]
  },
  {
   "cell_type": "code",
   "execution_count": 71,
   "metadata": {
    "collapsed": false
   },
   "outputs": [
    {
     "data": {
      "text/plain": [
       "year           1955.000000\n",
       "spawners         87.000000\n",
       "recruits        363.000000\n",
       "ln_spawners       4.465908\n",
       "ln_recruits       5.894403\n",
       "Name: 15, dtype: float64"
      ]
     },
     "execution_count": 71,
     "metadata": {},
     "output_type": "execute_result"
    }
   ],
   "source": [
    "# find year 1955\n",
    "min_lev = np.argmin(model_leverage)\n",
    "skeena.iloc[min_lev]"
   ]
  },
  {
   "cell_type": "code",
   "execution_count": 73,
   "metadata": {
    "collapsed": false
   },
   "outputs": [
    {
     "data": {
      "text/plain": [
       "<matplotlib.axes._subplots.AxesSubplot at 0xe634748>"
      ]
     },
     "execution_count": 73,
     "metadata": {},
     "output_type": "execute_result"
    },
    {
     "data": {
      "image/png": "[encoded data removed]",
      "text/plain": [
       "<matplotlib.figure.Figure at 0xb660128>"
      ]
     },
     "metadata": {},
     "output_type": "display_data"
    }
   ],
   "source": [
    "# fit a regression line with a polygon overlay\n",
    "sns.regplot(skeena['ln_spawners'], skeena['ln_recruits'])"
   ]
  }
 ],
 "metadata": {
  "kernelspec": {
   "display_name": "Python 2",
   "language": "python",
   "name": "python2"
  },
  "language_info": {
   "codemirror_mode": {
    "name": "ipython",
    "version": 2
   },
   "file_extension": ".py",
   "mimetype": "text/x-python",
   "name": "python",
   "nbconvert_exporter": "python",
   "pygments_lexer": "ipython2",
   "version": "2.7.11"
  }
 },
 "nbformat": 4,
 "nbformat_minor": 0
}
